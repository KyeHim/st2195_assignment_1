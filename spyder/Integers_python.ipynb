{
 "cells": [
  {
   "cell_type": "markdown",
   "id": "0a3288be",
   "metadata": {},
   "source": [
    "# This is my program to print integers"
   ]
  },
  {
   "cell_type": "markdown",
   "id": "490811e0",
   "metadata": {},
   "source": [
    "## Print integers 1 to 10 without a loop"
   ]
  },
  {
   "cell_type": "code",
   "execution_count": 1,
   "id": "58179e27",
   "metadata": {},
   "outputs": [
    {
     "name": "stdout",
     "output_type": "stream",
     "text": [
      "1 2 3 4 5 6 7 8 9 10\n"
     ]
    }
   ],
   "source": [
    "print(1,2,3,4,5,6,7,8,9,10)"
   ]
  },
  {
   "cell_type": "markdown",
   "id": "59663067",
   "metadata": {},
   "source": [
    "## Print integers 1 to 10 using a loop\n",
    "\n",
    "*Using a for loop*"
   ]
  },
  {
   "cell_type": "code",
   "execution_count": 2,
   "id": "6cc9564f",
   "metadata": {},
   "outputs": [
    {
     "name": "stdout",
     "output_type": "stream",
     "text": [
      "1\n",
      "2\n",
      "3\n",
      "4\n",
      "5\n",
      "6\n",
      "7\n",
      "8\n",
      "9\n",
      "10\n"
     ]
    }
   ],
   "source": [
    "for i in range(1,11):\n",
    "    print(i)"
   ]
  },
  {
   "cell_type": "markdown",
   "id": "c1b34313",
   "metadata": {},
   "source": [
    "*Using a while loop*"
   ]
  },
  {
   "cell_type": "code",
   "execution_count": 4,
   "id": "3b62322d",
   "metadata": {},
   "outputs": [
    {
     "name": "stdout",
     "output_type": "stream",
     "text": [
      "1\n",
      "2\n",
      "3\n",
      "4\n",
      "5\n",
      "6\n",
      "7\n",
      "8\n",
      "9\n",
      "10\n"
     ]
    }
   ],
   "source": [
    "j = 1\n",
    "while(j <= 10):\n",
    "    print(j)\n",
    "    j = j + 1"
   ]
  }
 ],
 "metadata": {
  "kernelspec": {
   "display_name": "Python 3 (ipykernel)",
   "language": "python",
   "name": "python3"
  },
  "language_info": {
   "codemirror_mode": {
    "name": "ipython",
    "version": 3
   },
   "file_extension": ".py",
   "mimetype": "text/x-python",
   "name": "python",
   "nbconvert_exporter": "python",
   "pygments_lexer": "ipython3",
   "version": "3.9.12"
  }
 },
 "nbformat": 4,
 "nbformat_minor": 5
}
